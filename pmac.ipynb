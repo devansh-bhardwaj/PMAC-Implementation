{
  "nbformat": 4,
  "nbformat_minor": 0,
  "metadata": {
    "colab": {
      "provenance": [],
      "gpuType": "T4"
    },
    "kernelspec": {
      "name": "python3",
      "display_name": "Python 3"
    },
    "language_info": {
      "name": "python"
    },
    "accelerator": "GPU"
  },
  "cells": [
    {
      "cell_type": "code",
      "execution_count": null,
      "metadata": {
        "id": "QJCopKwLpJSR"
      },
      "outputs": [],
      "source": [
        "!pip install nvcc4jupyter\n",
        "%load_ext nvcc4jupyter"
      ]
    },
    {
      "cell_type": "code",
      "source": [
        "!nvcc pmac.cu"
      ],
      "metadata": {
        "id": "swxUd2h0pW-t"
      },
      "execution_count": null,
      "outputs": []
    },
    {
      "cell_type": "code",
      "source": [
        "!./a.out message.txt key1.txt key2.txt"
      ],
      "metadata": {
        "id": "WhoxR9fRpZuH"
      },
      "execution_count": 4,
      "outputs": []
    }
  ]
}